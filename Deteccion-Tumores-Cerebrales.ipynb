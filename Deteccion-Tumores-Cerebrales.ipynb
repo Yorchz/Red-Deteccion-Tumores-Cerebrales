{
 "cells": [
  {
   "cell_type": "markdown",
   "id": "90d21487",
   "metadata": {
    "papermill": {
     "duration": 0.012749,
     "end_time": "2022-01-12T19:49:10.509974",
     "exception": false,
     "start_time": "2022-01-12T19:49:10.497225",
     "status": "completed"
    },
    "tags": []
   },
   "source": [
    "# Dataset utilizado"
   ]
  },
  {
   "cell_type": "markdown",
   "id": "0035d97c",
   "metadata": {
    "papermill": {
     "duration": 0.0121,
     "end_time": "2022-01-12T19:49:10.534006",
     "exception": false,
     "start_time": "2022-01-12T19:49:10.521906",
     "status": "completed"
    },
    "tags": []
   },
   "source": [
    "He utilizado un data set de kaggle, con 4 clases diferentes,  que clasifica y detecta si se encuentra en el cerebro un tumos de tipo: \n",
    "1. Glicoma\n",
    "2. Menigno\n",
    "3. No tumor\n",
    "4. Pituitarios\n",
    "\n",
    "Este dataset se puede encontrar en el siguiente enlace:\n",
    "https://www.kaggle.com/sartajbhuvaji/brain-tumor-classification-mri"
   ]
  },
  {
   "cell_type": "markdown",
   "id": "1ede00a7",
   "metadata": {
    "papermill": {
     "duration": 0.019134,
     "end_time": "2022-01-12T19:49:10.575893",
     "exception": false,
     "start_time": "2022-01-12T19:49:10.556759",
     "status": "completed"
    },
    "tags": []
   },
   "source": [
    "#  Utilizando solo los datos de Trainig y Testing"
   ]
  },
  {
   "cell_type": "code",
   "execution_count": 1,
   "id": "20f33af5",
   "metadata": {
    "execution": {
     "iopub.execute_input": "2022-01-12T19:49:10.630175Z",
     "iopub.status.busy": "2022-01-12T19:49:10.629448Z",
     "iopub.status.idle": "2022-01-12T19:49:18.364626Z",
     "shell.execute_reply": "2022-01-12T19:49:18.365054Z",
     "shell.execute_reply.started": "2022-01-12T18:24:02.061474Z"
    },
    "papermill": {
     "duration": 7.770575,
     "end_time": "2022-01-12T19:49:18.365309",
     "exception": false,
     "start_time": "2022-01-12T19:49:10.594734",
     "status": "completed"
    },
    "tags": []
   },
   "outputs": [
    {
     "name": "stdout",
     "output_type": "stream",
     "text": [
      "Found 2870 files belonging to 4 classes.\n"
     ]
    },
    {
     "name": "stderr",
     "output_type": "stream",
     "text": [
      "2022-01-12 19:49:15.978254: I tensorflow/stream_executor/cuda/cuda_gpu_executor.cc:937] successful NUMA node read from SysFS had negative value (-1), but there must be at least one NUMA node, so returning NUMA node zero\n",
      "2022-01-12 19:49:16.087505: I tensorflow/stream_executor/cuda/cuda_gpu_executor.cc:937] successful NUMA node read from SysFS had negative value (-1), but there must be at least one NUMA node, so returning NUMA node zero\n",
      "2022-01-12 19:49:16.088232: I tensorflow/stream_executor/cuda/cuda_gpu_executor.cc:937] successful NUMA node read from SysFS had negative value (-1), but there must be at least one NUMA node, so returning NUMA node zero\n",
      "2022-01-12 19:49:16.091233: I tensorflow/core/platform/cpu_feature_guard.cc:142] This TensorFlow binary is optimized with oneAPI Deep Neural Network Library (oneDNN) to use the following CPU instructions in performance-critical operations:  AVX2 AVX512F FMA\n",
      "To enable them in other operations, rebuild TensorFlow with the appropriate compiler flags.\n",
      "2022-01-12 19:49:16.092247: I tensorflow/stream_executor/cuda/cuda_gpu_executor.cc:937] successful NUMA node read from SysFS had negative value (-1), but there must be at least one NUMA node, so returning NUMA node zero\n",
      "2022-01-12 19:49:16.092903: I tensorflow/stream_executor/cuda/cuda_gpu_executor.cc:937] successful NUMA node read from SysFS had negative value (-1), but there must be at least one NUMA node, so returning NUMA node zero\n",
      "2022-01-12 19:49:16.093472: I tensorflow/stream_executor/cuda/cuda_gpu_executor.cc:937] successful NUMA node read from SysFS had negative value (-1), but there must be at least one NUMA node, so returning NUMA node zero\n",
      "2022-01-12 19:49:17.863973: I tensorflow/stream_executor/cuda/cuda_gpu_executor.cc:937] successful NUMA node read from SysFS had negative value (-1), but there must be at least one NUMA node, so returning NUMA node zero\n",
      "2022-01-12 19:49:17.864774: I tensorflow/stream_executor/cuda/cuda_gpu_executor.cc:937] successful NUMA node read from SysFS had negative value (-1), but there must be at least one NUMA node, so returning NUMA node zero\n",
      "2022-01-12 19:49:17.865406: I tensorflow/stream_executor/cuda/cuda_gpu_executor.cc:937] successful NUMA node read from SysFS had negative value (-1), but there must be at least one NUMA node, so returning NUMA node zero\n",
      "2022-01-12 19:49:17.865996: I tensorflow/core/common_runtime/gpu/gpu_device.cc:1510] Created device /job:localhost/replica:0/task:0/device:GPU:0 with 15403 MB memory:  -> device: 0, name: Tesla P100-PCIE-16GB, pci bus id: 0000:00:04.0, compute capability: 6.0\n"
     ]
    },
    {
     "name": "stdout",
     "output_type": "stream",
     "text": [
      "Found 394 files belonging to 4 classes.\n"
     ]
    }
   ],
   "source": [
    "import tensorflow as tf\n",
    "\n",
    "image_size = (150, 150)\n",
    "batch_size = 32\n",
    "\n",
    "train_ds = tf.keras.preprocessing.image_dataset_from_directory(\n",
    "    \"../input/brain-tumor-classification-mri/Training\",\n",
    "    image_size=image_size,\n",
    "    batch_size=batch_size,\n",
    "    label_mode='categorical'\n",
    ")\n",
    "val_ds = tf.keras.preprocessing.image_dataset_from_directory(\n",
    "    \"../input/brain-tumor-classification-mri/Testing\",\n",
    "    image_size=image_size,\n",
    "    batch_size=batch_size,\n",
    "    label_mode='categorical'\n",
    ")\n",
    "\n",
    "train_ds = train_ds.prefetch(buffer_size=32)\n",
    "val_ds = val_ds.prefetch(buffer_size=32)"
   ]
  },
  {
   "cell_type": "code",
   "execution_count": 2,
   "id": "97f8c2e9",
   "metadata": {
    "execution": {
     "iopub.execute_input": "2022-01-12T19:49:18.394231Z",
     "iopub.status.busy": "2022-01-12T19:49:18.393423Z",
     "iopub.status.idle": "2022-01-12T19:49:18.503606Z",
     "shell.execute_reply": "2022-01-12T19:49:18.503179Z",
     "shell.execute_reply.started": "2022-01-12T18:24:32.15435Z"
    },
    "papermill": {
     "duration": 0.125274,
     "end_time": "2022-01-12T19:49:18.503756",
     "exception": false,
     "start_time": "2022-01-12T19:49:18.378482",
     "status": "completed"
    },
    "tags": []
   },
   "outputs": [],
   "source": [
    "import tensorflow as tf\n",
    "from tensorflow import keras\n",
    "from tensorflow.keras.layers import Conv2D, MaxPooling2D, Dropout, Dense, Rescaling, Flatten\n",
    "from tensorflow.keras.callbacks import EarlyStopping\n",
    "\n",
    "model = keras.Sequential()\n",
    "model.add(Rescaling(scale=(1./127.5),\n",
    "                    offset=-1, \n",
    "                    input_shape=(150, 150, 3)))\n",
    "model.add(Conv2D(32, kernel_size=(3, 3), activation='relu'))\n",
    "model.add(MaxPooling2D(pool_size=(2, 2)))\n",
    "model.add(Conv2D(64, (3, 3), activation='relu'))\n",
    "model.add(MaxPooling2D(pool_size=(2, 2)))\n",
    "model.add(Dropout(0.25))\n",
    "model.add(Conv2D(128, (3, 3), activation='relu'))\n",
    "model.add(MaxPooling2D(pool_size=(2, 2)))\n",
    "model.add(Dropout(0.25))\n",
    "\n",
    "model.add(Flatten())\n",
    "model.add(Dense(128, activation='relu'))\n",
    "model.add(Dropout(0.5))\n",
    "model.add(Dense(4, activation='softmax'))\n",
    "\n",
    "model.compile(loss=tf.keras.losses.categorical_crossentropy,\n",
    "              optimizer=tf.keras.optimizers.Adam(1e-3),\n",
    "              metrics=['accuracy'])"
   ]
  },
  {
   "cell_type": "code",
   "execution_count": 3,
   "id": "9722d581",
   "metadata": {
    "execution": {
     "iopub.execute_input": "2022-01-12T19:49:18.534110Z",
     "iopub.status.busy": "2022-01-12T19:49:18.533362Z",
     "iopub.status.idle": "2022-01-12T19:52:34.658723Z",
     "shell.execute_reply": "2022-01-12T19:52:34.658246Z",
     "shell.execute_reply.started": "2022-01-12T18:24:41.913193Z"
    },
    "papermill": {
     "duration": 196.142504,
     "end_time": "2022-01-12T19:52:34.658867",
     "exception": false,
     "start_time": "2022-01-12T19:49:18.516363",
     "status": "completed"
    },
    "tags": []
   },
   "outputs": [
    {
     "name": "stdout",
     "output_type": "stream",
     "text": [
      "Epoch 1/200\n"
     ]
    },
    {
     "name": "stderr",
     "output_type": "stream",
     "text": [
      "2022-01-12 19:49:19.137415: I tensorflow/compiler/mlir/mlir_graph_optimization_pass.cc:185] None of the MLIR Optimization Passes are enabled (registered 2)\n",
      "2022-01-12 19:49:21.241220: I tensorflow/stream_executor/cuda/cuda_dnn.cc:369] Loaded cuDNN version 8005\n"
     ]
    },
    {
     "name": "stdout",
     "output_type": "stream",
     "text": [
      "90/90 [==============================] - 14s 69ms/step - loss: 1.1105 - accuracy: 0.5362 - val_loss: 2.2459 - val_accuracy: 0.3198\n",
      "Epoch 2/200\n",
      "90/90 [==============================] - 5s 53ms/step - loss: 0.6839 - accuracy: 0.7195 - val_loss: 2.0803 - val_accuracy: 0.5381\n",
      "Epoch 3/200\n",
      "90/90 [==============================] - 5s 52ms/step - loss: 0.5320 - accuracy: 0.7882 - val_loss: 2.4745 - val_accuracy: 0.5990\n",
      "Epoch 4/200\n",
      "90/90 [==============================] - 5s 55ms/step - loss: 0.4565 - accuracy: 0.8195 - val_loss: 3.0216 - val_accuracy: 0.5508\n",
      "Epoch 5/200\n",
      "90/90 [==============================] - 5s 51ms/step - loss: 0.3661 - accuracy: 0.8547 - val_loss: 3.0366 - val_accuracy: 0.6523\n",
      "Epoch 6/200\n",
      "90/90 [==============================] - 5s 50ms/step - loss: 0.3005 - accuracy: 0.8861 - val_loss: 3.7599 - val_accuracy: 0.6574\n",
      "Epoch 7/200\n",
      "90/90 [==============================] - 5s 52ms/step - loss: 0.2636 - accuracy: 0.9003 - val_loss: 3.0385 - val_accuracy: 0.7005\n",
      "Epoch 8/200\n",
      "90/90 [==============================] - 5s 49ms/step - loss: 0.2148 - accuracy: 0.9150 - val_loss: 3.3143 - val_accuracy: 0.7132\n",
      "Epoch 9/200\n",
      "90/90 [==============================] - 5s 48ms/step - loss: 0.1900 - accuracy: 0.9331 - val_loss: 3.1759 - val_accuracy: 0.7183\n",
      "Epoch 10/200\n",
      "90/90 [==============================] - 5s 54ms/step - loss: 0.1648 - accuracy: 0.9422 - val_loss: 3.7228 - val_accuracy: 0.7183\n",
      "Epoch 11/200\n",
      "90/90 [==============================] - 5s 53ms/step - loss: 0.1469 - accuracy: 0.9463 - val_loss: 3.4340 - val_accuracy: 0.7335\n",
      "Epoch 12/200\n",
      "90/90 [==============================] - 5s 50ms/step - loss: 0.1242 - accuracy: 0.9502 - val_loss: 3.3945 - val_accuracy: 0.7360\n",
      "Epoch 13/200\n",
      "90/90 [==============================] - 5s 53ms/step - loss: 0.1110 - accuracy: 0.9638 - val_loss: 4.6004 - val_accuracy: 0.7513\n",
      "Epoch 14/200\n",
      "90/90 [==============================] - 5s 50ms/step - loss: 0.1018 - accuracy: 0.9606 - val_loss: 4.3470 - val_accuracy: 0.7437\n",
      "Epoch 15/200\n",
      "90/90 [==============================] - 5s 55ms/step - loss: 0.0991 - accuracy: 0.9645 - val_loss: 4.2848 - val_accuracy: 0.7386\n",
      "Epoch 16/200\n",
      "90/90 [==============================] - 5s 54ms/step - loss: 0.0905 - accuracy: 0.9697 - val_loss: 3.6792 - val_accuracy: 0.7487\n",
      "Epoch 17/200\n",
      "90/90 [==============================] - 5s 49ms/step - loss: 0.0687 - accuracy: 0.9707 - val_loss: 4.8072 - val_accuracy: 0.7437\n",
      "Epoch 18/200\n",
      "90/90 [==============================] - 5s 50ms/step - loss: 0.0701 - accuracy: 0.9721 - val_loss: 5.6241 - val_accuracy: 0.7335\n",
      "Epoch 19/200\n",
      "90/90 [==============================] - 5s 52ms/step - loss: 0.0684 - accuracy: 0.9721 - val_loss: 4.5772 - val_accuracy: 0.7437\n",
      "Epoch 20/200\n",
      "90/90 [==============================] - 5s 52ms/step - loss: 0.0677 - accuracy: 0.9746 - val_loss: 4.3547 - val_accuracy: 0.7538\n",
      "Epoch 21/200\n",
      "90/90 [==============================] - 5s 54ms/step - loss: 0.0680 - accuracy: 0.9784 - val_loss: 4.6530 - val_accuracy: 0.7538\n",
      "Epoch 22/200\n",
      "90/90 [==============================] - 5s 49ms/step - loss: 0.0627 - accuracy: 0.9794 - val_loss: 4.7457 - val_accuracy: 0.7462\n",
      "Epoch 23/200\n",
      "90/90 [==============================] - 5s 52ms/step - loss: 0.0643 - accuracy: 0.9777 - val_loss: 5.1895 - val_accuracy: 0.7487\n",
      "Epoch 24/200\n",
      "90/90 [==============================] - 5s 53ms/step - loss: 0.0695 - accuracy: 0.9735 - val_loss: 4.3465 - val_accuracy: 0.7487\n",
      "Epoch 25/200\n",
      "90/90 [==============================] - 5s 51ms/step - loss: 0.0512 - accuracy: 0.9801 - val_loss: 4.6749 - val_accuracy: 0.7360\n",
      "Epoch 26/200\n",
      "90/90 [==============================] - 5s 55ms/step - loss: 0.0578 - accuracy: 0.9791 - val_loss: 5.4018 - val_accuracy: 0.7360\n",
      "Epoch 27/200\n",
      "90/90 [==============================] - 5s 50ms/step - loss: 0.0691 - accuracy: 0.9749 - val_loss: 4.1142 - val_accuracy: 0.7538\n",
      "Epoch 28/200\n",
      "90/90 [==============================] - 5s 50ms/step - loss: 0.0489 - accuracy: 0.9812 - val_loss: 5.1799 - val_accuracy: 0.7437\n",
      "Epoch 29/200\n",
      "90/90 [==============================] - 5s 55ms/step - loss: 0.0574 - accuracy: 0.9815 - val_loss: 4.7585 - val_accuracy: 0.7386\n",
      "Epoch 30/200\n",
      "90/90 [==============================] - 6s 58ms/step - loss: 0.0550 - accuracy: 0.9815 - val_loss: 5.9447 - val_accuracy: 0.7411\n",
      "Restoring model weights from the end of the best epoch.\n",
      "Epoch 00030: early stopping\n"
     ]
    }
   ],
   "source": [
    "epochs = 200\n",
    "\n",
    "es = EarlyStopping(monitor='val_accuracy', mode='max', verbose=1, patience=10, restore_best_weights=True)\n",
    "\n",
    "h = model.fit(\n",
    "        train_ds,\n",
    "        epochs=epochs, \n",
    "        validation_data=val_ds,\n",
    "        callbacks = [es]\n",
    ")"
   ]
  },
  {
   "cell_type": "code",
   "execution_count": 4,
   "id": "efe9667c",
   "metadata": {
    "execution": {
     "iopub.execute_input": "2022-01-12T19:52:35.477422Z",
     "iopub.status.busy": "2022-01-12T19:52:35.475448Z",
     "iopub.status.idle": "2022-01-12T19:52:35.690844Z",
     "shell.execute_reply": "2022-01-12T19:52:35.690386Z",
     "shell.execute_reply.started": "2022-01-12T18:28:38.831063Z"
    },
    "papermill": {
     "duration": 0.627433,
     "end_time": "2022-01-12T19:52:35.690970",
     "exception": false,
     "start_time": "2022-01-12T19:52:35.063537",
     "status": "completed"
    },
    "tags": []
   },
   "outputs": [
    {
     "data": {
      "image/png": "[encoded data removed]",
      "text/plain": [
       "<Figure size 432x288 with 1 Axes>"
      ]
     },
     "metadata": {
      "needs_background": "light"
     },
     "output_type": "display_data"
    }
   ],
   "source": [
    "import matplotlib.pyplot as plt\n",
    "\n",
    "plt.plot(h.history['accuracy'])\n",
    "plt.plot(h.history['val_accuracy'])\n",
    "plt.plot(h.history['loss'])\n",
    "plt.title('Model accuracy')\n",
    "plt.ylabel('accuracy')\n",
    "plt.xlabel('epoch')\n",
    "plt.legend(['training', 'validation','loss'], loc='upper right')\n",
    "plt.show() "
   ]
  },
  {
   "cell_type": "markdown",
   "id": "32a24f15",
   "metadata": {
    "papermill": {
     "duration": 0.407215,
     "end_time": "2022-01-12T19:52:36.503325",
     "exception": false,
     "start_time": "2022-01-12T19:52:36.096110",
     "status": "completed"
    },
    "tags": []
   },
   "source": [
    "Por muchos cambios efectuados en el modelo, no se ha conseguido acortar la distancia entre trainig y validation, se ha mantenido con una diferencia entre un 20% o 25%."
   ]
  },
  {
   "cell_type": "code",
   "execution_count": 5,
   "id": "c8f60dd4",
   "metadata": {
    "execution": {
     "iopub.execute_input": "2022-01-12T19:52:37.332957Z",
     "iopub.status.busy": "2022-01-12T19:52:37.332215Z",
     "iopub.status.idle": "2022-01-12T19:52:39.370863Z",
     "shell.execute_reply": "2022-01-12T19:52:39.370189Z",
     "shell.execute_reply.started": "2022-01-12T18:28:44.245711Z"
    },
    "papermill": {
     "duration": 2.463184,
     "end_time": "2022-01-12T19:52:39.371031",
     "exception": false,
     "start_time": "2022-01-12T19:52:36.907847",
     "status": "completed"
    },
    "tags": []
   },
   "outputs": [
    {
     "name": "stdout",
     "output_type": "stream",
     "text": [
      "              precision    recall  f1-score   support\n",
      "\n",
      "           0     0.2300    1.0000    0.3740        23\n",
      "           1     0.9913    0.6746    0.8028       169\n",
      "           2     0.9905    0.7482    0.8525       139\n",
      "           3     0.7568    0.8889    0.8175        63\n",
      "\n",
      "    accuracy                         0.7538       394\n",
      "   macro avg     0.7421    0.8279    0.7117       394\n",
      "weighted avg     0.9091    0.7538    0.7976       394\n",
      "\n"
     ]
    },
    {
     "data": {
      "image/png": "[encoded data removed]",
      "text/plain": [
       "<Figure size 432x288 with 2 Axes>"
      ]
     },
     "metadata": {
      "needs_background": "light"
     },
     "output_type": "display_data"
    }
   ],
   "source": [
    "import numpy as np\n",
    "from sklearn.metrics import classification_report, confusion_matrix\n",
    "import seaborn as sns\n",
    "\n",
    "results = np.concatenate([(y, model.predict(x=x)) for x, y in val_ds], axis=1)\n",
    "\n",
    "predictions = np.argmax(results[0], axis=1)\n",
    "labels = np.argmax(results[1], axis=1)\n",
    "\n",
    "cf_matrix = confusion_matrix(labels, predictions)\n",
    "\n",
    "sns.heatmap(cf_matrix, annot=True, fmt=\"d\", cmap=\"Blues\")\n",
    "\n",
    "print(classification_report(labels, predictions, digits = 4))"
   ]
  },
  {
   "cell_type": "markdown",
   "id": "5602376b",
   "metadata": {
    "papermill": {
     "duration": 0.420338,
     "end_time": "2022-01-12T19:52:40.199128",
     "exception": false,
     "start_time": "2022-01-12T19:52:39.778790",
     "status": "completed"
    },
    "tags": []
   },
   "source": [
    "# Utilizando solo los datos de Trainig"
   ]
  },
  {
   "cell_type": "markdown",
   "id": "a1a13a3b",
   "metadata": {
    "papermill": {
     "duration": 0.411197,
     "end_time": "2022-01-12T19:52:41.020215",
     "exception": false,
     "start_time": "2022-01-12T19:52:40.609018",
     "status": "completed"
    },
    "tags": []
   },
   "source": [
    "Despues de varios intentos de mejorar el acuraccy de los datos que contiene la carpeta de validation, y de buscar informacion de como podemos mejorarlo hemos decididido, que la mejor solución es obviar la carpeta de validacion ya que solo contiene 394 imagenes, y al parecer son pocas imagenes."
   ]
  },
  {
   "cell_type": "code",
   "execution_count": 6,
   "id": "2b06e241",
   "metadata": {
    "execution": {
     "iopub.execute_input": "2022-01-12T19:52:42.085441Z",
     "iopub.status.busy": "2022-01-12T19:52:42.084789Z",
     "iopub.status.idle": "2022-01-12T19:52:42.551060Z",
     "shell.execute_reply": "2022-01-12T19:52:42.551481Z",
     "shell.execute_reply.started": "2022-01-12T18:55:36.546391Z"
    },
    "papermill": {
     "duration": 0.923718,
     "end_time": "2022-01-12T19:52:42.551632",
     "exception": false,
     "start_time": "2022-01-12T19:52:41.627914",
     "status": "completed"
    },
    "tags": []
   },
   "outputs": [
    {
     "name": "stdout",
     "output_type": "stream",
     "text": [
      "Found 2870 files belonging to 4 classes.\n",
      "Using 2296 files for training.\n",
      "Found 2870 files belonging to 4 classes.\n",
      "Using 574 files for validation.\n"
     ]
    }
   ],
   "source": [
    "import tensorflow as tf\n",
    "\n",
    "image_size = (150, 150)\n",
    "batch_size = 32\n",
    "\n",
    "train_ds = tf.keras.preprocessing.image_dataset_from_directory(\n",
    "    \"../input/brain-tumor-classification-mri/Training\",\n",
    "    validation_split=0.2,\n",
    "    subset=\"training\",\n",
    "    seed=1337,\n",
    "    image_size=image_size,\n",
    "    batch_size=batch_size,\n",
    "    label_mode='categorical'\n",
    ")\n",
    "val_ds = tf.keras.preprocessing.image_dataset_from_directory(\n",
    "    \"../input/brain-tumor-classification-mri/Training\",\n",
    "    validation_split=0.2,\n",
    "    subset=\"validation\",\n",
    "    seed=1337,\n",
    "    image_size=image_size,\n",
    "    batch_size=batch_size,\n",
    "    label_mode='categorical'\n",
    ")\n",
    "\n",
    "train_ds = train_ds.prefetch(buffer_size=32)\n",
    "val_ds = val_ds.prefetch(buffer_size=32)"
   ]
  },
  {
   "cell_type": "code",
   "execution_count": 7,
   "id": "4b2b7c31",
   "metadata": {
    "execution": {
     "iopub.execute_input": "2022-01-12T19:52:43.384301Z",
     "iopub.status.busy": "2022-01-12T19:52:43.383413Z",
     "iopub.status.idle": "2022-01-12T19:52:43.446049Z",
     "shell.execute_reply": "2022-01-12T19:52:43.445549Z",
     "shell.execute_reply.started": "2022-01-12T18:40:02.985346Z"
    },
    "papermill": {
     "duration": 0.483632,
     "end_time": "2022-01-12T19:52:43.446172",
     "exception": false,
     "start_time": "2022-01-12T19:52:42.962540",
     "status": "completed"
    },
    "tags": []
   },
   "outputs": [],
   "source": [
    "import tensorflow as tf\n",
    "from tensorflow import keras\n",
    "from tensorflow.keras.layers import Conv2D, MaxPooling2D, Dropout, Dense, Rescaling, Flatten\n",
    "from tensorflow.keras.callbacks import EarlyStopping\n",
    "\n",
    "model = keras.Sequential()\n",
    "model.add(Rescaling(scale=(1./127.5),\n",
    "                    offset=-1, \n",
    "                    input_shape=(150, 150, 3)))\n",
    "model.add(Conv2D(32, kernel_size=(3, 3), activation='relu'))\n",
    "model.add(MaxPooling2D(pool_size=(2, 2)))\n",
    "model.add(Conv2D(64, (3, 3), activation='relu'))\n",
    "model.add(MaxPooling2D(pool_size=(2, 2)))\n",
    "model.add(Dropout(0.25))\n",
    "model.add(Conv2D(128, (3, 3), activation='relu'))\n",
    "model.add(MaxPooling2D(pool_size=(2, 2)))\n",
    "model.add(Dropout(0.25))\n",
    "\n",
    "model.add(Flatten())\n",
    "model.add(Dense(128, activation='relu'))\n",
    "model.add(Dropout(0.5))\n",
    "model.add(Dense(4, activation='softmax'))\n",
    "\n",
    "model.compile(loss=tf.keras.losses.categorical_crossentropy,\n",
    "              optimizer=tf.keras.optimizers.Adam(1e-3),\n",
    "              metrics=['accuracy'])"
   ]
  },
  {
   "cell_type": "code",
   "execution_count": 8,
   "id": "989cd584",
   "metadata": {
    "execution": {
     "iopub.execute_input": "2022-01-12T19:52:44.280922Z",
     "iopub.status.busy": "2022-01-12T19:52:44.280284Z",
     "iopub.status.idle": "2022-01-12T19:54:53.591842Z",
     "shell.execute_reply": "2022-01-12T19:54:53.592898Z",
     "shell.execute_reply.started": "2022-01-12T18:40:05.020877Z"
    },
    "papermill": {
     "duration": 129.739555,
     "end_time": "2022-01-12T19:54:53.593104",
     "exception": false,
     "start_time": "2022-01-12T19:52:43.853549",
     "status": "completed"
    },
    "tags": []
   },
   "outputs": [
    {
     "name": "stdout",
     "output_type": "stream",
     "text": [
      "Epoch 1/200\n",
      "72/72 [==============================] - 5s 58ms/step - loss: 1.1500 - accuracy: 0.5348 - val_loss: 0.7907 - val_accuracy: 0.6812\n",
      "Epoch 2/200\n",
      "72/72 [==============================] - 4s 57ms/step - loss: 0.7126 - accuracy: 0.7099 - val_loss: 0.6265 - val_accuracy: 0.7805\n",
      "Epoch 3/200\n",
      "72/72 [==============================] - 4s 53ms/step - loss: 0.5873 - accuracy: 0.7705 - val_loss: 0.4719 - val_accuracy: 0.8136\n",
      "Epoch 4/200\n",
      "72/72 [==============================] - 4s 54ms/step - loss: 0.4899 - accuracy: 0.8031 - val_loss: 0.4398 - val_accuracy: 0.8328\n",
      "Epoch 5/200\n",
      "72/72 [==============================] - 5s 63ms/step - loss: 0.4045 - accuracy: 0.8367 - val_loss: 0.4758 - val_accuracy: 0.8188\n",
      "Epoch 6/200\n",
      "72/72 [==============================] - 4s 53ms/step - loss: 0.3642 - accuracy: 0.8645 - val_loss: 0.3540 - val_accuracy: 0.8693\n",
      "Epoch 7/200\n",
      "72/72 [==============================] - 5s 62ms/step - loss: 0.2556 - accuracy: 0.9011 - val_loss: 0.3541 - val_accuracy: 0.8693\n",
      "Epoch 8/200\n",
      "72/72 [==============================] - 4s 55ms/step - loss: 0.2082 - accuracy: 0.9229 - val_loss: 0.3073 - val_accuracy: 0.8868\n",
      "Epoch 9/200\n",
      "72/72 [==============================] - 4s 58ms/step - loss: 0.2048 - accuracy: 0.9212 - val_loss: 0.2953 - val_accuracy: 0.8868\n",
      "Epoch 10/200\n",
      "72/72 [==============================] - 4s 53ms/step - loss: 0.1738 - accuracy: 0.9342 - val_loss: 0.3180 - val_accuracy: 0.8920\n",
      "Epoch 11/200\n",
      "72/72 [==============================] - 5s 60ms/step - loss: 0.1417 - accuracy: 0.9421 - val_loss: 0.3353 - val_accuracy: 0.8850\n",
      "Epoch 12/200\n",
      "72/72 [==============================] - 4s 53ms/step - loss: 0.1414 - accuracy: 0.9517 - val_loss: 0.3019 - val_accuracy: 0.9042\n",
      "Epoch 13/200\n",
      "72/72 [==============================] - 5s 61ms/step - loss: 0.1038 - accuracy: 0.9578 - val_loss: 0.3259 - val_accuracy: 0.8955\n",
      "Epoch 14/200\n",
      "72/72 [==============================] - 4s 53ms/step - loss: 0.0890 - accuracy: 0.9625 - val_loss: 0.3108 - val_accuracy: 0.9129\n",
      "Epoch 15/200\n",
      "72/72 [==============================] - 4s 52ms/step - loss: 0.0952 - accuracy: 0.9621 - val_loss: 0.3997 - val_accuracy: 0.9111\n",
      "Epoch 16/200\n",
      "72/72 [==============================] - 4s 55ms/step - loss: 0.0614 - accuracy: 0.9747 - val_loss: 0.3732 - val_accuracy: 0.9129\n",
      "Epoch 17/200\n",
      "72/72 [==============================] - 4s 54ms/step - loss: 0.0641 - accuracy: 0.9739 - val_loss: 0.3445 - val_accuracy: 0.9216\n",
      "Epoch 18/200\n",
      "72/72 [==============================] - 5s 63ms/step - loss: 0.0970 - accuracy: 0.9652 - val_loss: 0.3458 - val_accuracy: 0.9129\n",
      "Epoch 19/200\n",
      "72/72 [==============================] - 4s 52ms/step - loss: 0.0679 - accuracy: 0.9730 - val_loss: 0.3895 - val_accuracy: 0.9007\n",
      "Epoch 20/200\n",
      "72/72 [==============================] - 5s 61ms/step - loss: 0.0621 - accuracy: 0.9760 - val_loss: 0.4680 - val_accuracy: 0.9077\n",
      "Epoch 21/200\n",
      "72/72 [==============================] - 4s 52ms/step - loss: 0.0758 - accuracy: 0.9717 - val_loss: 0.3796 - val_accuracy: 0.9024\n",
      "Epoch 22/200\n",
      "72/72 [==============================] - 4s 53ms/step - loss: 0.0722 - accuracy: 0.9734 - val_loss: 0.4246 - val_accuracy: 0.8972\n",
      "Epoch 23/200\n",
      "72/72 [==============================] - 5s 58ms/step - loss: 0.0539 - accuracy: 0.9778 - val_loss: 0.4331 - val_accuracy: 0.9077\n",
      "Epoch 24/200\n",
      "72/72 [==============================] - 4s 52ms/step - loss: 0.0556 - accuracy: 0.9795 - val_loss: 0.4050 - val_accuracy: 0.9094\n",
      "Epoch 25/200\n",
      "72/72 [==============================] - 5s 64ms/step - loss: 0.0671 - accuracy: 0.9739 - val_loss: 0.3868 - val_accuracy: 0.9094\n",
      "Epoch 26/200\n",
      "72/72 [==============================] - 4s 53ms/step - loss: 0.0616 - accuracy: 0.9765 - val_loss: 0.3631 - val_accuracy: 0.8990\n",
      "Epoch 27/200\n",
      "72/72 [==============================] - 4s 55ms/step - loss: 0.0473 - accuracy: 0.9817 - val_loss: 0.4365 - val_accuracy: 0.9094\n",
      "Restoring model weights from the end of the best epoch.\n",
      "Epoch 00027: early stopping\n"
     ]
    }
   ],
   "source": [
    "epochs = 200\n",
    "\n",
    "es = EarlyStopping(monitor='val_accuracy', mode='max', verbose=1, patience=10, restore_best_weights=True)\n",
    "\n",
    "h = model.fit(\n",
    "        train_ds,\n",
    "        epochs=epochs, \n",
    "        validation_data=val_ds,\n",
    "        callbacks = [es]\n",
    ")"
   ]
  },
  {
   "cell_type": "code",
   "execution_count": 9,
   "id": "24080ec0",
   "metadata": {
    "execution": {
     "iopub.execute_input": "2022-01-12T19:54:55.094281Z",
     "iopub.status.busy": "2022-01-12T19:54:55.091394Z",
     "iopub.status.idle": "2022-01-12T19:54:55.284835Z",
     "shell.execute_reply": "2022-01-12T19:54:55.285330Z",
     "shell.execute_reply.started": "2022-01-12T18:45:24.908488Z"
    },
    "papermill": {
     "duration": 0.896936,
     "end_time": "2022-01-12T19:54:55.285486",
     "exception": false,
     "start_time": "2022-01-12T19:54:54.388550",
     "status": "completed"
    },
    "tags": []
   },
   "outputs": [
    {
     "data": {
      "image/png": "[encoded data removed]",
      "text/plain": [
       "<Figure size 432x288 with 1 Axes>"
      ]
     },
     "metadata": {
      "needs_background": "light"
     },
     "output_type": "display_data"
    }
   ],
   "source": [
    "import matplotlib.pyplot as plt\n",
    "\n",
    "plt.plot(h.history['accuracy'])\n",
    "plt.plot(h.history['val_accuracy'])\n",
    "plt.plot(h.history['loss'])\n",
    "plt.title('Model accuracy')\n",
    "plt.ylabel('accuracy')\n",
    "plt.xlabel('epoch')\n",
    "plt.legend(['training', 'validation','loss'], loc='upper right')\n",
    "plt.show() "
   ]
  },
  {
   "cell_type": "code",
   "execution_count": 10,
   "id": "817c2795",
   "metadata": {
    "execution": {
     "iopub.execute_input": "2022-01-12T19:54:56.706979Z",
     "iopub.status.busy": "2022-01-12T19:54:56.706091Z",
     "iopub.status.idle": "2022-01-12T19:54:56.774033Z",
     "shell.execute_reply": "2022-01-12T19:54:56.773440Z",
     "shell.execute_reply.started": "2022-01-12T18:55:42.639652Z"
    },
    "papermill": {
     "duration": 0.79026,
     "end_time": "2022-01-12T19:54:56.774171",
     "exception": false,
     "start_time": "2022-01-12T19:54:55.983911",
     "status": "completed"
    },
    "tags": []
   },
   "outputs": [],
   "source": [
    "import tensorflow as tf\n",
    "from tensorflow import keras\n",
    "from tensorflow.keras.layers import Conv2D, MaxPooling2D, Dropout, Dense, Rescaling, Flatten\n",
    "from tensorflow.keras.callbacks import EarlyStopping\n",
    "\n",
    "model = keras.Sequential()\n",
    "model.add(Rescaling(scale=(1./127.5),\n",
    "                    offset=-1, \n",
    "                    input_shape=(150, 150, 3)))\n",
    "model.add(Conv2D(25, kernel_size=(3, 3), activation='relu'))\n",
    "model.add(MaxPooling2D(pool_size=(2, 2)))\n",
    "model.add(Conv2D(50, (3, 3), activation='relu'))\n",
    "model.add(MaxPooling2D(pool_size=(2, 2)))\n",
    "model.add(Dropout(0.25))\n",
    "model.add(Conv2D(100, (3, 3), activation='relu'))\n",
    "model.add(MaxPooling2D(pool_size=(2, 2)))\n",
    "model.add(Dropout(0.25))\n",
    "\n",
    "model.add(Flatten())\n",
    "model.add(Dense(100, activation='relu'))\n",
    "model.add(Dropout(0.5))\n",
    "model.add(Dense(4, activation='softmax'))\n",
    "\n",
    "model.compile(loss=tf.keras.losses.categorical_crossentropy,\n",
    "              optimizer=tf.keras.optimizers.Adam(1e-3),\n",
    "              metrics=['accuracy'])"
   ]
  },
  {
   "cell_type": "code",
   "execution_count": 11,
   "id": "a4c5b406",
   "metadata": {
    "execution": {
     "iopub.execute_input": "2022-01-12T19:54:58.185058Z",
     "iopub.status.busy": "2022-01-12T19:54:58.184167Z",
     "iopub.status.idle": "2022-01-12T19:57:33.487091Z",
     "shell.execute_reply": "2022-01-12T19:57:33.486591Z",
     "shell.execute_reply.started": "2022-01-12T18:55:45.227383Z"
    },
    "papermill": {
     "duration": 156.008529,
     "end_time": "2022-01-12T19:57:33.487222",
     "exception": false,
     "start_time": "2022-01-12T19:54:57.478693",
     "status": "completed"
    },
    "tags": []
   },
   "outputs": [
    {
     "name": "stdout",
     "output_type": "stream",
     "text": [
      "Epoch 1/60\n",
      "72/72 [==============================] - 5s 56ms/step - loss: 1.2159 - accuracy: 0.4686 - val_loss: 0.7844 - val_accuracy: 0.7038\n",
      "Epoch 2/60\n",
      "72/72 [==============================] - 4s 57ms/step - loss: 0.8520 - accuracy: 0.6302 - val_loss: 0.6363 - val_accuracy: 0.7526\n",
      "Epoch 3/60\n",
      "72/72 [==============================] - 4s 52ms/step - loss: 0.7642 - accuracy: 0.6699 - val_loss: 0.5840 - val_accuracy: 0.7822\n",
      "Epoch 4/60\n",
      "72/72 [==============================] - 5s 63ms/step - loss: 0.6628 - accuracy: 0.7034 - val_loss: 0.5362 - val_accuracy: 0.7857\n",
      "Epoch 5/60\n",
      "72/72 [==============================] - 4s 54ms/step - loss: 0.5897 - accuracy: 0.7591 - val_loss: 0.4768 - val_accuracy: 0.8188\n",
      "Epoch 6/60\n",
      "72/72 [==============================] - 4s 57ms/step - loss: 0.5378 - accuracy: 0.7657 - val_loss: 0.4767 - val_accuracy: 0.7770\n",
      "Epoch 7/60\n",
      "72/72 [==============================] - 4s 53ms/step - loss: 0.4612 - accuracy: 0.8092 - val_loss: 0.3845 - val_accuracy: 0.8310\n",
      "Epoch 8/60\n",
      "72/72 [==============================] - 5s 58ms/step - loss: 0.4139 - accuracy: 0.8175 - val_loss: 0.3878 - val_accuracy: 0.8449\n",
      "Epoch 9/60\n",
      "72/72 [==============================] - 4s 54ms/step - loss: 0.3612 - accuracy: 0.8436 - val_loss: 0.3728 - val_accuracy: 0.8484\n",
      "Epoch 10/60\n",
      "72/72 [==============================] - 5s 59ms/step - loss: 0.3250 - accuracy: 0.8541 - val_loss: 0.3644 - val_accuracy: 0.8606\n",
      "Epoch 11/60\n",
      "72/72 [==============================] - 4s 53ms/step - loss: 0.2986 - accuracy: 0.8680 - val_loss: 0.3466 - val_accuracy: 0.8850\n",
      "Epoch 12/60\n",
      "72/72 [==============================] - 4s 52ms/step - loss: 0.2904 - accuracy: 0.8759 - val_loss: 0.3383 - val_accuracy: 0.8728\n",
      "Epoch 13/60\n",
      "72/72 [==============================] - 5s 65ms/step - loss: 0.2327 - accuracy: 0.8916 - val_loss: 0.3846 - val_accuracy: 0.8833\n",
      "Epoch 14/60\n",
      "72/72 [==============================] - 4s 54ms/step - loss: 0.2720 - accuracy: 0.8946 - val_loss: 0.3583 - val_accuracy: 0.8990\n",
      "Epoch 15/60\n",
      "72/72 [==============================] - 4s 57ms/step - loss: 0.2227 - accuracy: 0.8994 - val_loss: 0.3353 - val_accuracy: 0.8868\n",
      "Epoch 16/60\n",
      "72/72 [==============================] - 4s 54ms/step - loss: 0.2168 - accuracy: 0.9042 - val_loss: 0.3056 - val_accuracy: 0.9129\n",
      "Epoch 17/60\n",
      "72/72 [==============================] - 5s 66ms/step - loss: 0.2014 - accuracy: 0.9094 - val_loss: 0.3331 - val_accuracy: 0.8955\n",
      "Epoch 18/60\n",
      "72/72 [==============================] - 4s 52ms/step - loss: 0.1824 - accuracy: 0.9212 - val_loss: 0.3253 - val_accuracy: 0.9059\n",
      "Epoch 19/60\n",
      "72/72 [==============================] - 4s 52ms/step - loss: 0.1765 - accuracy: 0.9251 - val_loss: 0.4185 - val_accuracy: 0.8920\n",
      "Epoch 20/60\n",
      "72/72 [==============================] - 5s 63ms/step - loss: 0.1815 - accuracy: 0.9242 - val_loss: 0.3725 - val_accuracy: 0.9007\n",
      "Epoch 21/60\n",
      "72/72 [==============================] - 4s 52ms/step - loss: 0.1477 - accuracy: 0.9316 - val_loss: 0.4340 - val_accuracy: 0.9042\n",
      "Epoch 22/60\n",
      "72/72 [==============================] - 4s 56ms/step - loss: 0.1599 - accuracy: 0.9281 - val_loss: 0.3586 - val_accuracy: 0.9216\n",
      "Epoch 23/60\n",
      "72/72 [==============================] - 5s 61ms/step - loss: 0.1477 - accuracy: 0.9316 - val_loss: 0.3453 - val_accuracy: 0.9129\n",
      "Epoch 24/60\n",
      "72/72 [==============================] - 4s 56ms/step - loss: 0.1403 - accuracy: 0.9386 - val_loss: 0.3844 - val_accuracy: 0.9007\n",
      "Epoch 25/60\n",
      "72/72 [==============================] - 4s 52ms/step - loss: 0.1440 - accuracy: 0.9334 - val_loss: 0.3552 - val_accuracy: 0.9199\n",
      "Epoch 26/60\n",
      "72/72 [==============================] - 5s 66ms/step - loss: 0.1362 - accuracy: 0.9325 - val_loss: 0.3609 - val_accuracy: 0.9059\n",
      "Epoch 27/60\n",
      "72/72 [==============================] - 4s 52ms/step - loss: 0.1406 - accuracy: 0.9421 - val_loss: 0.3949 - val_accuracy: 0.9059\n",
      "Epoch 28/60\n",
      "72/72 [==============================] - 4s 52ms/step - loss: 0.1285 - accuracy: 0.9447 - val_loss: 0.3992 - val_accuracy: 0.9111\n",
      "Epoch 29/60\n",
      "72/72 [==============================] - 5s 59ms/step - loss: 0.1286 - accuracy: 0.9425 - val_loss: 0.4030 - val_accuracy: 0.9129\n",
      "Epoch 30/60\n",
      "72/72 [==============================] - 5s 60ms/step - loss: 0.1201 - accuracy: 0.9416 - val_loss: 0.4554 - val_accuracy: 0.8990\n",
      "Epoch 31/60\n",
      "72/72 [==============================] - 4s 56ms/step - loss: 0.1147 - accuracy: 0.9503 - val_loss: 0.4890 - val_accuracy: 0.9111\n",
      "Epoch 32/60\n",
      "72/72 [==============================] - 4s 52ms/step - loss: 0.1144 - accuracy: 0.9482 - val_loss: 0.4171 - val_accuracy: 0.9111\n",
      "Restoring model weights from the end of the best epoch.\n",
      "Epoch 00032: early stopping\n"
     ]
    }
   ],
   "source": [
    "epochs = 60\n",
    "\n",
    "es = EarlyStopping(monitor='val_accuracy', mode='max', verbose=1, patience=10, restore_best_weights=True)\n",
    "\n",
    "h = model.fit(\n",
    "        train_ds,\n",
    "        epochs=epochs, \n",
    "        validation_data=val_ds,\n",
    "        callbacks = [es]\n",
    ")"
   ]
  },
  {
   "cell_type": "code",
   "execution_count": 12,
   "id": "ac99641c",
   "metadata": {
    "execution": {
     "iopub.execute_input": "2022-01-12T19:57:35.528867Z",
     "iopub.status.busy": "2022-01-12T19:57:35.528302Z",
     "iopub.status.idle": "2022-01-12T19:57:39.832748Z",
     "shell.execute_reply": "2022-01-12T19:57:39.832316Z"
    },
    "papermill": {
     "duration": 5.329403,
     "end_time": "2022-01-12T19:57:39.832869",
     "exception": false,
     "start_time": "2022-01-12T19:57:34.503466",
     "status": "completed"
    },
    "tags": []
   },
   "outputs": [
    {
     "data": {
      "image/png": "[encoded data removed]",
      "text/plain": [
       "<Figure size 432x288 with 1 Axes>"
      ]
     },
     "metadata": {
      "needs_background": "light"
     },
     "output_type": "display_data"
    }
   ],
   "source": [
    "import matplotlib.pyplot as plt\n",
    "\n",
    "plt.plot(h.history['accuracy'])\n",
    "plt.plot(h.history['val_accuracy'])\n",
    "plt.plot(h.history['loss'])\n",
    "plt.title('Model accuracy')\n",
    "plt.ylabel('accuracy')\n",
    "plt.xlabel('epoch')\n",
    "plt.legend(['training', 'validation','loss'], loc='upper right')\n",
    "plt.show() "
   ]
  },
  {
   "cell_type": "code",
   "execution_count": 13,
   "id": "b704703d",
   "metadata": {
    "execution": {
     "iopub.execute_input": "2022-01-12T19:57:41.928711Z",
     "iopub.status.busy": "2022-01-12T19:57:41.927785Z",
     "iopub.status.idle": "2022-01-12T19:57:43.477612Z",
     "shell.execute_reply": "2022-01-12T19:57:43.478029Z"
    },
    "papermill": {
     "duration": 2.594752,
     "end_time": "2022-01-12T19:57:43.478183",
     "exception": false,
     "start_time": "2022-01-12T19:57:40.883431",
     "status": "completed"
    },
    "tags": []
   },
   "outputs": [
    {
     "name": "stdout",
     "output_type": "stream",
     "text": [
      "              precision    recall  f1-score   support\n",
      "\n",
      "           0     0.9051    0.9470    0.9256       151\n",
      "           1     0.8704    0.8758    0.8731       161\n",
      "           2     0.9277    0.8652    0.8953        89\n",
      "           3     0.9825    0.9711    0.9767       173\n",
      "\n",
      "    accuracy                         0.9216       574\n",
      "   macro avg     0.9214    0.9148    0.9177       574\n",
      "weighted avg     0.9222    0.9216    0.9216       574\n",
      "\n"
     ]
    },
    {
     "data": {
      "image/png": "[encoded data removed]",
      "text/plain": [
       "<Figure size 432x288 with 2 Axes>"
      ]
     },
     "metadata": {
      "needs_background": "light"
     },
     "output_type": "display_data"
    }
   ],
   "source": [
    "import numpy as np\n",
    "from sklearn.metrics import classification_report, confusion_matrix\n",
    "import seaborn as sns\n",
    "\n",
    "results = np.concatenate([(y, model.predict(x=x)) for x, y in val_ds], axis=1)\n",
    "\n",
    "predictions = np.argmax(results[0], axis=1)\n",
    "labels = np.argmax(results[1], axis=1)\n",
    "\n",
    "cf_matrix = confusion_matrix(labels, predictions)\n",
    "\n",
    "sns.heatmap(cf_matrix, annot=True, fmt=\"d\", cmap=\"Blues\")\n",
    "\n",
    "print(classification_report(labels, predictions, digits = 4))"
   ]
  }
 ],
 "metadata": {
  "kernelspec": {
   "display_name": "Python 3",
   "language": "python",
   "name": "python3"
  },
  "language_info": {
   "codemirror_mode": {
    "name": "ipython",
    "version": 3
   },
   "file_extension": ".py",
   "mimetype": "text/x-python",
   "name": "python",
   "nbconvert_exporter": "python",
   "pygments_lexer": "ipython3",
   "version": "3.7.12"
  },
  "papermill": {
   "default_parameters": {},
   "duration": 524.883386,
   "end_time": "2022-01-12T19:57:47.364282",
   "environment_variables": {},
   "exception": null,
   "input_path": "__notebook__.ipynb",
   "output_path": "__notebook__.ipynb",
   "parameters": {},
   "start_time": "2022-01-12T19:49:02.480896",
   "version": "2.3.3"
  }
 },
 "nbformat": 4,
 "nbformat_minor": 5
}
